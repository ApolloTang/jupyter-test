{
 "cells": [
  {
   "cell_type": "code",
   "execution_count": 4,
   "id": "8ea5594b",
   "metadata": {},
   "outputs": [
    {
     "name": "stdout",
     "output_type": "stream",
     "text": [
      "\u001b[90mundefined\u001b[39m\n"
     ]
    }
   ],
   "source": [
    "console.log(undefined && 'left operand is false')"
   ]
  },
  {
   "cell_type": "code",
   "execution_count": 6,
   "id": "85cacd1c",
   "metadata": {},
   "outputs": [
    {
     "name": "stdout",
     "output_type": "stream",
     "text": [
      "\u001b[33mfalse\u001b[39m\n"
     ]
    }
   ],
   "source": [
    "console.log(false && 'left operand is false')"
   ]
  },
  {
   "cell_type": "code",
   "execution_count": 3,
   "id": "521f62fe",
   "metadata": {},
   "outputs": [
    {
     "name": "stdout",
     "output_type": "stream",
     "text": [
      "\n"
     ]
    }
   ],
   "source": [
    "console.log('' && 'left operand is false')  // result is an empty string"
   ]
  },
  {
   "cell_type": "code",
   "execution_count": 5,
   "id": "f0e46cac",
   "metadata": {},
   "outputs": [
    {
     "name": "stdout",
     "output_type": "stream",
     "text": [
      "\u001b[33m0\u001b[39m\n"
     ]
    }
   ],
   "source": [
    "console.log(0 && 'left operand is false')"
   ]
  },
  {
   "cell_type": "code",
   "execution_count": 7,
   "id": "43522d82",
   "metadata": {},
   "outputs": [
    {
     "name": "stdout",
     "output_type": "stream",
     "text": [
      "\u001b[1mnull\u001b[22m\n"
     ]
    }
   ],
   "source": [
    "console.log(null && 'left operand is false')"
   ]
  }
 ],
 "metadata": {
  "kernelspec": {
   "display_name": "JavaScript",
   "language": "javascript",
   "name": "jslab"
  },
  "language_info": {
   "file_extension": ".js",
   "mimetype": "text/javascript",
   "name": "javascript",
   "version": ""
  }
 },
 "nbformat": 4,
 "nbformat_minor": 5
}
